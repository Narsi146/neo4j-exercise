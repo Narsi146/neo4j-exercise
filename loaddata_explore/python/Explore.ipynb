{
 "cells": [
  {
   "cell_type": "code",
   "execution_count": 46,
   "id": "fad970a1-9f75-4cd0-a0ec-32ec3a5c47d1",
   "metadata": {},
   "outputs": [],
   "source": [
    "# Load Libraries & load environment variables"
   ]
  },
  {
   "cell_type": "code",
   "execution_count": 47,
   "id": "5a32bbb6-2893-4cac-a30a-2be5d88c4d7b",
   "metadata": {},
   "outputs": [
    {
     "data": {
      "text/plain": [
       "True"
      ]
     },
     "execution_count": 47,
     "metadata": {},
     "output_type": "execute_result"
    }
   ],
   "source": [
    "import os\n",
    "from dotenv import load_dotenv\n",
    "from data.driver import Neo4jDriver\n",
    "import pandas as pd\n",
    "\n",
    "load_dotenv()"
   ]
  },
  {
   "cell_type": "code",
   "execution_count": 48,
   "id": "5f8b0996-8e71-499e-9548-b0e902f54008",
   "metadata": {},
   "outputs": [],
   "source": [
    "# Set connection object\n",
    "conn = Neo4jDriver(\n",
    "    os.environ.get(\"NEO4J_URI\"),\n",
    "    os.environ.get(\"NEO4J_USERNAME\"),\n",
    "    os.environ.get(\"NEO4J_PASSWORD\"),\n",
    ")\n",
    "\n",
    "db = os.environ.get(\"DB\")"
   ]
  },
  {
   "cell_type": "code",
   "execution_count": 49,
   "id": "cac16bfa-6fef-44bc-8872-1fc180cab065",
   "metadata": {},
   "outputs": [],
   "source": [
    "# Define query function\n",
    "def query_data(query, conn=None, db=None):\n",
    "    # Function to handle the updating the Neo4j database in batch mode.\n",
    "    results = None\n",
    "    results = conn.query(query, db=db)\n",
    "    return results"
   ]
  },
  {
   "cell_type": "code",
   "execution_count": 50,
   "id": "4ac32797-1c5e-417b-9d41-2107fd5e3cd5",
   "metadata": {},
   "outputs": [
    {
     "name": "stdout",
     "output_type": "stream",
     "text": [
      "    customerName  totalPurchaseAmount\n",
      "0     Greta Swan         1.978438e+06\n",
      "1   Erick Ingram         1.935143e+06\n",
      "2  Dani Flanders         1.882640e+06\n",
      "3   Candace Shea         1.815146e+06\n",
      "4    Matt Carter         1.802131e+06\n"
     ]
    }
   ],
   "source": [
    "# 1. Top 5 customers in terms of card purchases (max. amount)\n",
    "query_1 = \"\"\"MATCH (cust :Customer)-[:HAS_CARD]->(card :CardNumber)-[p :PURCHASED_AT]->(m :Merchant)\n",
    "RETURN DISTINCT cust.firstName+\" \"+cust.lastName AS customerName,sum(p.amount) AS totalPurchaseAmount\n",
    "ORDER BY totalPurchaseAmount desc\n",
    "LIMIT 5\n",
    ";\"\"\"\n",
    "\n",
    "result_1 = query_data(query_1, conn, db)\n",
    "resultDF1 = pd.DataFrame([c.data() for c in result_1])\n",
    "print(resultDF1)"
   ]
  },
  {
   "cell_type": "code",
   "execution_count": 51,
   "id": "bf6f12fb-dbfd-4bb2-b37c-992eeaa8c1cc",
   "metadata": {},
   "outputs": [
    {
     "name": "stdout",
     "output_type": "stream",
     "text": [
      "     m.merchantName  totalPurchaseAmount\n",
      "0    It Smart Group         3.778415e+06\n",
      "1       Areon Impex         3.617039e+06\n",
      "2  21st Century Fox         3.591051e+06\n",
      "3          Vodafone         3.566855e+06\n",
      "4          Facebook         3.552316e+06\n"
     ]
    }
   ],
   "source": [
    "# 2. Top 5 merchant in terms of card purchases (max. amount)\n",
    "query_2 = \"\"\"MATCH (card :CardNumber)-[p :PURCHASED_AT]->(m :Merchant)\n",
    "RETURN DISTINCT m.merchantName, sum(p.amount) AS totalPurchaseAmount\n",
    "ORDER BY totalPurchaseAmount desc\n",
    "LIMIT 5\n",
    ";\"\"\"\n",
    "\n",
    "result_2 = query_data(query_2, conn, db)\n",
    "resultDF2 = pd.DataFrame([c.data() for c in result_2])\n",
    "print(resultDF2)"
   ]
  },
  {
   "cell_type": "code",
   "execution_count": 52,
   "id": "f59f814b-ceba-4cea-8631-7f6146c24f0a",
   "metadata": {},
   "outputs": [
    {
     "name": "stdout",
     "output_type": "stream",
     "text": [
      "                               acct1  transferCount\n",
      "0   {'accountNumber': '423-13-4375'}             10\n",
      "1   {'accountNumber': '883-66-3870'}             10\n",
      "2   {'accountNumber': '062-18-1716'}             10\n",
      "3   {'accountNumber': '532-16-1750'}             10\n",
      "4   {'accountNumber': '624-06-2107'}             10\n",
      "..                               ...            ...\n",
      "95  {'accountNumber': '281-25-1765'}             10\n",
      "96  {'accountNumber': '625-82-2217'}             10\n",
      "97  {'accountNumber': '312-78-2310'}             10\n",
      "98  {'accountNumber': '430-04-5447'}             10\n",
      "99  {'accountNumber': '650-63-6154'}             10\n",
      "\n",
      "[100 rows x 2 columns]\n"
     ]
    }
   ],
   "source": [
    "# 3. Customers with most account transfers\n",
    "query_3 = \"\"\"MATCH (acct1 :AccountNumber)-[t :TRANSFERRED_TO]->(acct2 :AccountNumber)\n",
    "WITH acct1, count(t) AS transferCount\n",
    "RETURN acct1, transferCount\n",
    "ORDER BY transferCount\n",
    ";\"\"\"\n",
    "\n",
    "result_3 = query_data(query_3, conn, db)\n",
    "resultDF3 = pd.DataFrame([c.data() for c in result_3])\n",
    "print(resultDF3)"
   ]
  },
  {
   "cell_type": "code",
   "execution_count": 53,
   "id": "8b407daf-a76a-4101-895e-c37e797476af",
   "metadata": {},
   "outputs": [
    {
     "name": "stdout",
     "output_type": "stream",
     "text": [
      "  merchant  totalPurchasedAmount\n",
      "0   Danone         493206.400403\n"
     ]
    }
   ],
   "source": [
    "# 4. Top merchant in terms of card purchases for an age band - 20-30yrs\n",
    "query_4 = \"\"\"MATCH (cust :Customer)-[:HAS_CARD]->(:CardNumber)-[p :PURCHASED_AT]->(m :Merchant)\n",
    "WHERE toInteger(cust.age) >=20 AND cust.age <= 30\n",
    "RETURN DISTINCT m.merchantName AS merchant, sum(p.amount) AS totalPurchasedAmount\n",
    "ORDER BY totalPurchasedAmount\n",
    "LIMIT 1\n",
    ";\"\"\"\n",
    "\n",
    "result_4 = query_data(query_4, conn, db)\n",
    "resultDF4 = pd.DataFrame([c.data() for c in result_4])\n",
    "print(resultDF4)"
   ]
  },
  {
   "cell_type": "code",
   "execution_count": 54,
   "id": "9cf46205-7a3a-4452-9890-1803418cd76f",
   "metadata": {},
   "outputs": [
    {
     "name": "stdout",
     "output_type": "stream",
     "text": [
      "    purchaseTransaction  purchaseAmount           merchantName  \\\n",
      "0                969872    18993.858570           Biolife Grup   \n",
      "1                691099    17553.718970               Facebook   \n",
      "2                397884     4070.203048               Facebook   \n",
      "3                472792    18277.032860                 Comodo   \n",
      "4                472943     1470.317650                 CarMax   \n",
      "5                954599    10534.211440                 CarMax   \n",
      "6                157815    17412.549910             Amazon.com   \n",
      "7                183546    15503.043760             Apple Inc.   \n",
      "8                162514     8592.970528             Apple Inc.   \n",
      "9                272302    12425.406300               Vodafone   \n",
      "10               709831    17622.203290                   Mars   \n",
      "11               422499    18616.467680         It Smart Group   \n",
      "12               771072     4111.829705         It Smart Group   \n",
      "13               828102     4336.294040         It Smart Group   \n",
      "14               259124     6587.435623  Leadertech Consulting   \n",
      "15               404811     4404.935350       21st Century Fox   \n",
      "16               817280     8703.616911                Comcast   \n",
      "17               306878     4250.621807                DynCorp   \n",
      "\n",
      "            statusFlag  \n",
      "0   Verify Transaction  \n",
      "1   Verify Transaction  \n",
      "2   Verify Transaction  \n",
      "3   Verify Transaction  \n",
      "4   Verify Transaction  \n",
      "5   Verify Transaction  \n",
      "6   Verify Transaction  \n",
      "7   Verify Transaction  \n",
      "8   Verify Transaction  \n",
      "9   Verify Transaction  \n",
      "10  Verify Transaction  \n",
      "11  Verify Transaction  \n",
      "12  Verify Transaction  \n",
      "13  Verify Transaction  \n",
      "14  Verify Transaction  \n",
      "15  Verify Transaction  \n",
      "16  Verify Transaction  \n",
      "17  Verify Transaction  \n"
     ]
    }
   ],
   "source": [
    "# 5. Identify purchases within one hour of transfer to that account.\n",
    "query_5 = \"\"\"MATCH (acct1 :AccountNumber)-[trans :TRANSFERRED_TO]->(acct2 :AccountNumber)<-[:HAS_ACCOUNT]-(cust :Customer)-[:HAS_CARD]->(card :CardNumber)-[purch :PURCHASED_AT]->(m :Merchant)\n",
    "WITH trans.transactionDateTime AS transferDateTime, purch.transactionDateTime AS purchaseDateTime, purch.amount AS purchaseAmount, purch.transactionId AS purchaseTransaction, m.merchantName AS merchantName\n",
    "WHERE transferDateTime < purchaseDateTime < transferDateTime + duration({hours: 1})\n",
    "RETURN purchaseTransaction, purchaseAmount, merchantName, \"Verify Transaction\" AS statusFlag\n",
    ";\"\"\"\n",
    "\n",
    "result_5 = query_data(query_5, conn, db)\n",
    "resultDF5 = pd.DataFrame([c.data() for c in result_5])\n",
    "print(resultDF5)"
   ]
  }
 ],
 "metadata": {
  "kernelspec": {
   "display_name": "Python 3 (ipykernel)",
   "language": "python",
   "name": "python3"
  },
  "language_info": {
   "codemirror_mode": {
    "name": "ipython",
    "version": 3
   },
   "file_extension": ".py",
   "mimetype": "text/x-python",
   "name": "python",
   "nbconvert_exporter": "python",
   "pygments_lexer": "ipython3",
   "version": "3.9.13"
  }
 },
 "nbformat": 4,
 "nbformat_minor": 5
}
